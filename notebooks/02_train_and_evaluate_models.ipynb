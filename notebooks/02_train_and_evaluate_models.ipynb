{
 "cells": [
  {
   "cell_type": "markdown",
   "id": "a0eedbc7-2c61-4846-8d95-3118b5a506ee",
   "metadata": {},
   "source": [
    "# CubeML prototyping"
   ]
  },
  {
   "cell_type": "markdown",
   "id": "6fbbffe0-cd5a-4ee4-bbc6-5df91b9855e8",
   "metadata": {
    "tags": []
   },
   "source": [
    "## Load libraries and get ready..."
   ]
  },
  {
   "cell_type": "code",
   "execution_count": 1,
   "id": "26db81a8-6217-4e9a-982b-8a563612e228",
   "metadata": {},
   "outputs": [
    {
     "ename": "ModuleNotFoundError",
     "evalue": "No module named 'cubeml'",
     "output_type": "error",
     "traceback": [
      "\u001b[0;31m---------------------------------------------------------------------------\u001b[0m",
      "\u001b[0;31mModuleNotFoundError\u001b[0m                       Traceback (most recent call last)",
      "Input \u001b[0;32mIn [1]\u001b[0m, in \u001b[0;36m<cell line: 4>\u001b[0;34m()\u001b[0m\n\u001b[1;32m      2\u001b[0m \u001b[38;5;28;01mimport\u001b[39;00m \u001b[38;5;21;01mspectral\u001b[39;00m\n\u001b[1;32m      3\u001b[0m \u001b[38;5;66;03m#spectral.settings.envi_support_nonlowercase_params = True\u001b[39;00m\n\u001b[0;32m----> 4\u001b[0m \u001b[38;5;28;01mfrom\u001b[39;00m \u001b[38;5;21;01mcubeml\u001b[39;00m \u001b[38;5;28;01mimport\u001b[39;00m TrainingData\n\u001b[1;32m      5\u001b[0m \u001b[38;5;28;01mfrom\u001b[39;00m \u001b[38;5;21;01mcubeml\u001b[39;00m \u001b[38;5;28;01mimport\u001b[39;00m CubeSchool\n\u001b[1;32m      6\u001b[0m \u001b[38;5;28;01mfrom\u001b[39;00m \u001b[38;5;21;01mcubeml\u001b[39;00m\u001b[38;5;21;01m.\u001b[39;00m\u001b[38;5;21;01mmodel_evaluation\u001b[39;00m \u001b[38;5;28;01mimport\u001b[39;00m presentable_table\n",
      "\u001b[0;31mModuleNotFoundError\u001b[0m: No module named 'cubeml'"
     ]
    }
   ],
   "source": [
    "import pickle\n",
    "import spectral\n",
    "#spectral.settings.envi_support_nonlowercase_params = True\n",
    "from cubeml import TrainingData\n",
    "from cubeml import CubeSchool\n",
    "from cubeml.model_evaluation import presentable_table\n",
    "from cubeml.model_evaluation import generate_falsecolor_images\n",
    "from cubeml.model_evaluation import compare_inferences\n",
    "import os"
   ]
  },
  {
   "cell_type": "code",
   "execution_count": null,
   "id": "68160846-8ffa-4d42-97df-83a68e2d5241",
   "metadata": {},
   "outputs": [],
   "source": [
    "json_file = '../../03_Parse_labels_and_train/labels_a2_halogena1/project-2-at-2023-06-07-03-09-cee8e3b6.json'\n",
    "\n",
    "hypercube_dir = \"../../02_False_color_development/poplar_regen_halogen_a1/\"\n",
    "\n",
    "png_directory = \"../../03_Parse_labels_and_train/labels_a2_halogen_png/\""
   ]
  },
  {
   "cell_type": "code",
   "execution_count": null,
   "id": "56cfbeb6-4113-47da-8efc-95b6432fd511",
   "metadata": {},
   "outputs": [],
   "source": [
    "falsecolor_dir = \"output/falsecolor/\"\n",
    "learner_plot_dir = \"output/learner_plots/\"\n",
    "panel_image_dir = \"output/panel_images/\""
   ]
  },
  {
   "cell_type": "markdown",
   "id": "4891d3d7-b220-4974-a9a5-644edb33b9f8",
   "metadata": {},
   "source": [
    "## Prepare models"
   ]
  },
  {
   "cell_type": "code",
   "execution_count": null,
   "id": "2a29e2a8-80f2-4305-9f52-853a77f04590",
   "metadata": {},
   "outputs": [],
   "source": [
    "[os.makedirs(dir, exist_ok=True) for dir in [falsecolor_dir, learner_plot_dir, panel_image_dir]]"
   ]
  },
  {
   "cell_type": "markdown",
   "id": "1bfcae21-dbaf-4d7d-b18c-be0a1dc0108b",
   "metadata": {
    "tags": []
   },
   "source": [
    "### Build `TrainingData`"
   ]
  },
  {
   "cell_type": "code",
   "execution_count": null,
   "id": "1a4e50a5-9cec-4024-ac9a-8161a248f0c5",
   "metadata": {
    "scrolled": true,
    "tags": []
   },
   "outputs": [],
   "source": [
    "training_data = TrainingData(\n",
    "    json_file=json_file,\n",
    "    img_directory=hypercube_dir,\n",
    "    png_directory=png_directory\n",
    ")\n",
    "\n",
    "training_data.stratified_sample()\n",
    "\n",
    "filename = \"output/\" + os.path.basename(os.path.normpath(png_directory.replace('/', '_TrainingData.pkl')))\n",
    "pickle.dump(training_data, open(filename, 'wb'))"
   ]
  },
  {
   "cell_type": "code",
   "execution_count": null,
   "id": "64fc097b-640e-42ff-9e3a-483431c61588",
   "metadata": {},
   "outputs": [],
   "source": [
    "training_data.labels_key_df"
   ]
  },
  {
   "cell_type": "code",
   "execution_count": null,
   "id": "c4eed020-0697-4a16-9fa3-2c5792004b2c",
   "metadata": {
    "tags": []
   },
   "outputs": [],
   "source": [
    "colors = ['#000000', '#0000FF', '#013220', '#FF0000', '#964B00']  # User-provided color list"
   ]
  },
  {
   "cell_type": "markdown",
   "id": "f968144e-926f-4ff2-a3d5-34c92d65890c",
   "metadata": {
    "tags": []
   },
   "source": [
    "### Build `CubeLearner` objects inside `CubeSchool`"
   ]
  },
  {
   "cell_type": "code",
   "execution_count": null,
   "id": "b3aa7117-e55b-4933-bd08-86a459bf317d",
   "metadata": {
    "scrolled": true,
    "tags": []
   },
   "outputs": [],
   "source": [
    "model_types = [\"PCA\", \"LDA\", \"RF\", \"GBC\", \"ABC\", \"LR\", \"GNB\", \"DTC\"]\n",
    "data_types = [\"Train\", \"Test\"]\n",
    "\n",
    "school = CubeSchool(training_data, model_types, colors)\n",
    "school.run()"
   ]
  },
  {
   "cell_type": "markdown",
   "id": "aae3b584-7a65-42d5-a762-371455b6d62b",
   "metadata": {},
   "source": [
    "## Evaluation and deployment of `CubeLearner` objects"
   ]
  },
  {
   "cell_type": "markdown",
   "id": "9d500f14-75ef-46d0-a08c-6d68c9cca3d2",
   "metadata": {},
   "source": [
    "### Confusion matrix heatmaps and other model summary plots"
   ]
  },
  {
   "cell_type": "code",
   "execution_count": null,
   "id": "5987ca52-0871-4672-8c1b-9601220eeefa",
   "metadata": {},
   "outputs": [],
   "source": [
    "school.multi_plot(learner_plot_dir)"
   ]
  },
  {
   "cell_type": "markdown",
   "id": "b495dabb-4ba5-40ce-b6cf-d0e7d8db32e6",
   "metadata": {
    "tags": []
   },
   "source": [
    "### IoU table"
   ]
  },
  {
   "cell_type": "code",
   "execution_count": null,
   "id": "0cbd7aae-2507-40d0-93a1-102c18083529",
   "metadata": {
    "tags": []
   },
   "outputs": [],
   "source": [
    "table = presentable_table(training_data.labels_key_df, school.iou_dict)\n",
    "filename = \"output/\" + os.path.basename(os.path.normpath(png_directory.replace('/', '_metrics.csv')))\n",
    "table.save(filename)"
   ]
  },
  {
   "cell_type": "markdown",
   "id": "f752fb4b-3a2d-4a06-9d17-d5d9a309c958",
   "metadata": {},
   "source": [
    "### Inference plots"
   ]
  },
  {
   "cell_type": "code",
   "execution_count": null,
   "id": "63a055bc-63bd-4b94-93b7-82321e77ed65",
   "metadata": {
    "tags": []
   },
   "outputs": [],
   "source": [
    "df = cubeml.match_files(hypercube_dir)"
   ]
  },
  {
   "cell_type": "code",
   "execution_count": null,
   "id": "0ff251be-9dfb-4196-98bc-116c4fae4072",
   "metadata": {
    "tags": []
   },
   "outputs": [],
   "source": [
    "generate_falsecolor_images(df = df, \n",
    "                           learner_dict = school.learner_dict,\n",
    "                           model_types = model_types,\n",
    "                           colors = colors,\n",
    "                           output_dir = falsecolor_dir, \n",
    "                           min_wave = 400, \n",
    "                           max_wave = 1000)"
   ]
  },
  {
   "cell_type": "code",
   "execution_count": null,
   "id": "de0a5af7-3e3a-4ff8-bde9-a65b2ede843f",
   "metadata": {},
   "outputs": [],
   "source": [
    "compare_inferences(df = df,\n",
    "                   model_types = model_types,\n",
    "                   falsecolor_dir = falsecolor_dir,\n",
    "                   output_dir = panel_image_dir,\n",
    "                   num_panels = 3)"
   ]
  },
  {
   "cell_type": "markdown",
   "id": "b9d1881b-bf43-483f-90d6-ca9f6ebce216",
   "metadata": {
    "tags": []
   },
   "source": [
    "### `plot_spectra` for `TrainingData`"
   ]
  },
  {
   "cell_type": "code",
   "execution_count": null,
   "id": "a3161415-d862-4d46-940a-03914cbdfa90",
   "metadata": {
    "tags": []
   },
   "outputs": [],
   "source": [
    "fig = training_data.plot_spectra(colors, sampling_fraction = 0.001)\n",
    "spectra_filename = png_directory.replace('/', '_spectra.png')\n",
    "fig.savefig(\"output/\" + spectra_filename)\n",
    "fig.show()"
   ]
  }
 ],
 "metadata": {
  "kernelspec": {
   "display_name": "cubeglm2",
   "language": "python",
   "name": "cubeglm2"
  },
  "language_info": {
   "codemirror_mode": {
    "name": "ipython",
    "version": 3
   },
   "file_extension": ".py",
   "mimetype": "text/x-python",
   "name": "python",
   "nbconvert_exporter": "python",
   "pygments_lexer": "ipython3",
   "version": "3.8.13"
  },
  "toc-autonumbering": true
 },
 "nbformat": 4,
 "nbformat_minor": 5
}
